{
 "cells": [
  {
   "cell_type": "code",
   "execution_count": null,
   "metadata": {},
   "outputs": [],
   "source": [
    "!pip install neurokit2\n",
    "!pip install ts2vg\n",
    "!pip install ipywidgets\n",
    "!pip install pyWavelets"
   ]
  },
  {
   "cell_type": "code",
   "execution_count": 2,
   "metadata": {},
   "outputs": [],
   "source": [
    "#Import necessary python libraries\n",
    "import wfdb\n",
    "import pywt\n",
    "import numpy as np\n",
    "import neurokit2 as nk\n",
    "import ipywidgets as widgets\n",
    "from ipywidgets import interact\n",
    "import matplotlib.pyplot as plt"
   ]
  },
  {
   "cell_type": "code",
   "execution_count": 3,
   "metadata": {},
   "outputs": [],
   "source": [
    "def load_ecg_record(record_path):\n",
    "    ecg_record = wfdb.rdrecord(record_path)\n",
    "    ecg_signal = ecg_record.p_signal[:, 0]\n",
    "    sampling_rate=ecg_record.fs\n",
    "    return ecg_signal,sampling_rate"
   ]
  },
  {
   "cell_type": "code",
   "execution_count": 4,
   "metadata": {},
   "outputs": [],
   "source": [
    "def extract_r_peaks(record_path, method):\n",
    "    signal, sampling_rate = load_ecg_record(record_path)  \n",
    "    _, r_peaks = nk.ecg_peaks(signal, sampling_rate, method)\n",
    "    return r_peaks\n",
    "    "
   ]
  },
  {
   "cell_type": "code",
   "execution_count": 5,
   "metadata": {},
   "outputs": [
    {
     "data": {
      "text/plain": [
       "{'method_peaks': 'neurokit',\n",
       " 'method_fixpeaks': 'None',\n",
       " 'ECG_R_Peaks': array([   396,    711,   1032, ..., 649003, 649371, 649750]),\n",
       " 'sampling_rate': 360}"
      ]
     },
     "execution_count": 5,
     "metadata": {},
     "output_type": "execute_result"
    }
   ],
   "source": [
    "extract_r_peaks(\"mitdb/101\",\"neurokit\")"
   ]
  },
  {
   "cell_type": "code",
   "execution_count": 6,
   "metadata": {},
   "outputs": [],
   "source": [
    "def plot_first_5_r_peaks(record_path,method):\n",
    "    r_peaks = extract_r_peaks(record_path, method)['ECG_R_Peaks']\n",
    "    signal, sampling_rate = load_ecg_record(record_path)\n",
    "    r_peaks = r_peaks[:5]\n",
    "    signal = signal[:(sampling_rate * 5)]\n",
    "    \n",
    "    plot = nk.events_plot(r_peaks, signal)\n",
    "    plt.show()\n",
    "    "
   ]
  },
  {
   "cell_type": "code",
   "execution_count": 7,
   "metadata": {},
   "outputs": [],
   "source": [
    "def create_methods_box():\n",
    "    methods_box = widgets.Select(\n",
    "        options=[\"pantompkins1985\", \"hamilton2002\", \"zong2003\", \"martinez2004\",\n",
    "                 \"christov2004\", \"gamboa2008\", \"elgendi2010\", \"engzeemod2012\", \n",
    "                 \"manikandan2012\", \"kalidas2017\", \"nabian2018\",\n",
    "                 \"rodrigues2021\", \"koka2022\", \"promac\",\"neurokit\"],\n",
    "        description=\"Algorithms for peak-detection\",\n",
    "        disable=False,\n",
    "        layout={'width': 'max-content'}\n",
    "    )\n",
    "    return methods_box"
   ]
  },
  {
   "cell_type": "code",
   "execution_count": 8,
   "metadata": {},
   "outputs": [],
   "source": [
    "def main():\n",
    "    record_path = \"mitdb/101\"\n",
    "    methods_box = create_methods_box()\n",
    "\n",
    "    def plot_interactive(method):\n",
    "        plot_first_5_r_peaks(record_path,method)\n",
    "\n",
    "    interact(plot_interactive, method=methods_box)\n",
    "    "
   ]
  },
  {
   "cell_type": "code",
   "execution_count": 10,
   "metadata": {},
   "outputs": [
    {
     "data": {
      "application/vnd.jupyter.widget-view+json": {
       "model_id": "78cd3c67e9b04562a5d81b9f497ba6a1",
       "version_major": 2,
       "version_minor": 0
      },
      "text/plain": [
       "interactive(children=(Select(description='Algorithms for peak-detection', layout=Layout(width='max-content'), …"
      ]
     },
     "metadata": {},
     "output_type": "display_data"
    }
   ],
   "source": [
    "if __name__==\"__main__\":\n",
    "    main()\n",
    "    "
   ]
  },
  {
   "cell_type": "code",
   "execution_count": null,
   "metadata": {},
   "outputs": [],
   "source": []
  }
 ],
 "metadata": {
  "kernelspec": {
   "display_name": "Python 3 (ipykernel)",
   "language": "python",
   "name": "python3"
  },
  "language_info": {
   "codemirror_mode": {
    "name": "ipython",
    "version": 3
   },
   "file_extension": ".py",
   "mimetype": "text/x-python",
   "name": "python",
   "nbconvert_exporter": "python",
   "pygments_lexer": "ipython3",
   "version": "3.9.2"
  }
 },
 "nbformat": 4,
 "nbformat_minor": 2
}
